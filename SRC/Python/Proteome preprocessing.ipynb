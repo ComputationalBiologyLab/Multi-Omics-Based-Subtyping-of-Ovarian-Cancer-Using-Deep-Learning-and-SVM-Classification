{
  "nbformat": 4,
  "nbformat_minor": 0,
  "metadata": {
    "colab": {
      "provenance": []
    },
    "kernelspec": {
      "name": "python3",
      "display_name": "Python 3"
    },
    "language_info": {
      "name": "python"
    }
  },
  "cells": [
    {
      "cell_type": "markdown",
      "source": [
        "#Proteome profiling preprocessing"
      ],
      "metadata": {
        "id": "uotcMT6_CyAB"
      }
    },
    {
      "cell_type": "code",
      "execution_count": null,
      "metadata": {
        "id": "5ToXE3C06l8N"
      },
      "outputs": [],
      "source": [
        "import numpy as np\n",
        "import pandas as pd\n",
        "from sklearn.impute import KNNImputer"
      ]
    },
    {
      "cell_type": "code",
      "execution_count": null,
      "metadata": {
        "id": "A3xRV4Ys7jwv"
      },
      "outputs": [],
      "source": [
        "# Read unpreprocessed file of proteome profiling\n",
        "proteome = pd.read_csv(\"proteomeprofiling.csv\")\n",
        "\n",
        "# Drop all columns that not correspond to sample IDs\n",
        "proteome = proteome.drop(\"AGID\",axis=1)\n",
        "proteome = proteome.drop(\"Unnamed: 0\",axis=1)\n",
        "proteome = proteome.drop(\"lab_id\",axis=1)\n",
        "proteome = proteome.drop(\"catalog_number\",axis=1)\n",
        "proteome = proteome.drop(\"set_id\",axis=1)\n",
        "\n",
        "#make peptide_target (protein names) as indicies\n",
        "proteome.set_index('peptide_target', inplace=True)\n",
        "\n",
        "#Transpose the dataframe\n",
        "prot = proteome.T"
      ]
    },
    {
      "cell_type": "code",
      "execution_count": null,
      "metadata": {
        "id": "blRdq0hzw3y0"
      },
      "outputs": [],
      "source": [
        "# Remove features that have zero expression in less than 10% of samples\n",
        "na_percentages = prot.isna().mean()\n",
        "#print(na_percentages)\n",
        "features_to_drop = na_percentages[na_percentages > 0.10].index\n",
        "df = prot.drop(features_to_drop, axis=1)\n",
        "\n",
        "##checking remaining missing values in data\n",
        "missing_values = df.isna().sum().sum()\n",
        "print(missing_values)"
      ]
    },
    {
      "cell_type": "code",
      "execution_count": null,
      "metadata": {
        "id": "fzxGJa6Gy79m"
      },
      "outputs": [],
      "source": [
        "#Impute missing values using K-Nearest Neighbour =5\n",
        "imputer = KNNImputer(n_neighbors=5)\n",
        "\n",
        "# Impute missing values\n",
        "df_imputed = pd.DataFrame(imputer.fit_transform(df), columns=df.columns, index=df.index)\n",
        "missing_values_after = df_imputed.isna().sum().sum()\n",
        "print(missing_values_after)\n",
        "\n",
        "#save the preprocessed proteomeprofiling dataframe\n",
        "df_imputed.to_csv(\"proteomeprofiling.csv\")"
      ]
    }
  ]
}