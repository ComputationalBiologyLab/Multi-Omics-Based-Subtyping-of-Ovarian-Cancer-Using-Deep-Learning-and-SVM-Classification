{
  "nbformat": 4,
  "nbformat_minor": 0,
  "metadata": {
    "colab": {
      "provenance": []
    },
    "kernelspec": {
      "name": "python3",
      "display_name": "Python 3"
    },
    "language_info": {
      "name": "python"
    }
  },
  "cells": [
    {
      "cell_type": "markdown",
      "source": [
        "#Mann-Whitney U test\n"
      ],
      "metadata": {
        "id": "HKcL130sPGzy"
      }
    },
    {
      "cell_type": "code",
      "execution_count": 3,
      "metadata": {
        "colab": {
          "base_uri": "https://localhost:8080/"
        },
        "id": "GnbZbG09OAxJ",
        "outputId": "e84f8472-3a6e-4e7e-95bd-1e06714d70b5"
      },
      "outputs": [
        {
          "output_type": "stream",
          "name": "stdout",
          "text": [
            "0.7161466802789416\n",
            "0.08687973866632077\n",
            "0.5657677012524884\n",
            "0.2717783311284194\n",
            "0.07092578332070835\n",
            "0.17341397710879092\n",
            "0.2597212089174682\n",
            "0.7416772969853325\n",
            "0.9864438288155534\n",
            "0.39896364242085913\n",
            "0.6905274923750577\n",
            "0.8204497629129748\n",
            "0.11037201254042524\n",
            "0.17557073882563456\n",
            "0.21991762042224672\n",
            "0.5349222014640624\n",
            "0.20748119030886591\n",
            "0.8864682862230807\n",
            "0.3371794113350923\n",
            "0.04299757756812559\n",
            "0.3658231657934812\n",
            "0.8898958878234452\n",
            "                       Cell Type   P-Value Higher Abundance Subtype\n",
            "0                  B cells naive  0.716147          Not Significant\n",
            "1                 B cells memory  0.086880          Not Significant\n",
            "2                   Plasma cells  0.565768          Not Significant\n",
            "3                    T cells CD8  0.271778          Not Significant\n",
            "4              T cells CD4 naive  0.070926          Not Significant\n",
            "5     T cells CD4 memory resting  0.173414          Not Significant\n",
            "6   T cells CD4 memory activated  0.259721          Not Significant\n",
            "7      T cells follicular helper  0.741677          Not Significant\n",
            "8     T cells regulatory (Tregs)  0.986444          Not Significant\n",
            "9            T cells gamma delta  0.398964          Not Significant\n",
            "10              NK cells resting  0.690527          Not Significant\n",
            "11            NK cells activated  0.820450          Not Significant\n",
            "12                     Monocytes  0.110372          Not Significant\n",
            "13                Macrophages M0  0.175571          Not Significant\n",
            "14                Macrophages M1  0.219918          Not Significant\n",
            "15                Macrophages M2  0.534922          Not Significant\n",
            "16       Dendritic cells resting  0.207481          Not Significant\n",
            "17     Dendritic cells activated  0.886468          Not Significant\n",
            "18            Mast cells resting  0.337179          Not Significant\n",
            "19          Mast cells activated  0.042998                Subtype 2\n",
            "20                   Eosinophils  0.365823          Not Significant\n",
            "21                   Neutrophils  0.889896          Not Significant\n"
          ]
        }
      ],
      "source": [
        "import pandas as pd\n",
        "from scipy.stats import mannwhitneyu\n",
        "\n",
        "# Example dataframes\n",
        "df1 = pd.read_csv(\"CIBERSORTx_subtype1_Results.csv\", index_col=0)\n",
        "df2 = pd.read_csv(\"CIBERSORTx_subtype2_Results.csv\", index_col=0)\n",
        "\n",
        "# Drop last four columns as they don't correspond to immune cells\n",
        "df1 = df1.iloc[:, :-4]\n",
        "df2 = df2.iloc[:, :-4]\n",
        "\n",
        "# List of cell types\n",
        "cell_types = df1.columns\n",
        "\n",
        "# Perform Mann-Whitney U test for each cell type\n",
        "results = []\n",
        "for cell_type in cell_types:\n",
        "    stat, p_value = mannwhitneyu(df1[cell_type], df2[cell_type], method = \"asymptotic\")\n",
        "    print(p_value)\n",
        "    if p_value < 0.05:  # Check if the result is significant\n",
        "        higher_subtype = \"Subtype 1\" if df1[cell_type].median() > df2[cell_type].median() else \"Subtype 2\"\n",
        "        results.append((cell_type, p_value, higher_subtype))\n",
        "    else:\n",
        "        results.append((cell_type, p_value, \"Not Significant\"))\n",
        "\n",
        "# Create a DataFrame to display the results\n",
        "results_df = pd.DataFrame(results, columns=['Cell Type', 'P-Value', 'Higher Abundance Subtype'])\n",
        "print(results_df)\n"
      ]
    }
  ]
}